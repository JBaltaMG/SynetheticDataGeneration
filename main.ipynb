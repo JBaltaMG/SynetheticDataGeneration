{
 "cells": [
  {
   "cell_type": "code",
   "execution_count": null,
   "id": "f79d67ca",
   "metadata": {},
   "outputs": [
    {
     "name": "stdout",
     "output_type": "stream",
     "text": [
      "Generating data for company: LEGO...\n",
      "✔ Roles and Names generated.\n",
      "✔ Procurement data generated.\n",
      "✔ Services data generated.\n",
      "✔ Products data generated.\n",
      "✔ Accounts, Customers, and Departments generated.\n",
      "✔ Payroll data generated.\n",
      "✔ All CSVs saved to: data/outputdata/\n",
      "✔ All mapping data generated.\n",
      "✔ All mapping CSVs saved to: data/outputdata/mapping\n",
      "✔ All erp-data generated.\n",
      "✔ All ERP CSVs saved to: data/outputdata/fact\n",
      "✔ All ERP data and mapping generated for company: LEGO\n",
      "powerdatademo.database.windows.net\n",
      "demo_db\n",
      "admindatademo\n",
      "NewTech2022\n",
      "Connection string: DRIVER={ODBC Driver 17 for SQL Server};SERVER=tcp:powerdatademo.database.windows.net,1433;DATABASE=demo_db;UID=admindatademo;PWD=NewTech2022;TrustServerCertificate=Yes;Encrypt=yes;\n",
      "INSERT INTO dbo.dim_version (version) VALUES ('lego07132025')\n",
      "inserting department.csv into database\n",
      "CREATE TABLE [dim_department] ([department_id] int, [name] nvarchar(255), [proportionality] decimal(18,2), [num_employee] int, [id] int, [version_id] bigint);\n",
      "Max ID in dim_department: 0\n",
      "INSERT INTO [dim_department] ([department_id],[name],[proportionality],[num_employee],[id],[version_id]) VALUES (?,?,?,?,?,?)\n",
      "inserting customer.csv into database\n",
      "CREATE TABLE [dim_customer] ([customer_id] int, [name] nvarchar(255), [customer_segment] nvarchar(255), [proportionality] decimal(18,2), [id] int, [version_id] bigint);\n",
      "Max ID in dim_customer: 0\n",
      "INSERT INTO [dim_customer] ([customer_id],[name],[customer_segment],[proportionality],[id],[version_id]) VALUES (?,?,?,?,?,?)\n",
      "inserting product.csv into database\n",
      "CREATE TABLE [dim_product] ([name] nvarchar(255), [proportionality] decimal(18,2), [id] int, [version_id] bigint);\n",
      "Max ID in dim_product: 0\n",
      "INSERT INTO [dim_product] ([name],[proportionality],[id],[version_id]) VALUES (?,?,?,?)\n",
      "inserting account.csv into database\n",
      "CREATE TABLE [dim_account] ([name] nvarchar(255), [account_type] nvarchar(255), [account_id] int, [id] int, [version_id] bigint);\n",
      "Max ID in dim_account: 0\n",
      "INSERT INTO [dim_account] ([name],[account_type],[account_id],[id],[version_id]) VALUES (?,?,?,?,?)\n",
      "inserting procurement.csv into database\n",
      "CREATE TABLE [dim_procurement] ([name] nvarchar(255), [proportionality] decimal(18,2), [id] int, [version_id] bigint);\n",
      "Max ID in dim_procurement: 0\n",
      "INSERT INTO [dim_procurement] ([name],[proportionality],[id],[version_id]) VALUES (?,?,?,?)\n",
      "inserting service.csv into database\n",
      "CREATE TABLE [dim_service] ([name] nvarchar(255), [proportionality] decimal(18,2), [id] int, [version_id] bigint);\n",
      "Max ID in dim_service: 0\n",
      "INSERT INTO [dim_service] ([name],[proportionality],[id],[version_id]) VALUES (?,?,?,?)\n",
      "inserting line.csv into database\n",
      "CREATE TABLE [dim_line] ([name] nvarchar(255), [line_id] int, [id] int, [version_id] bigint);\n",
      "Max ID in dim_line: 0\n",
      "INSERT INTO [dim_line] ([name],[line_id],[id],[version_id]) VALUES (?,?,?,?)\n"
     ]
    },
    {
     "name": "stderr",
     "output_type": "stream",
     "text": [
      "c:\\Users\\jsteensgaard\\OneDrive - KPMG\\Documents\\Synthetic_Data_Generation\\db\\db_operations_working.py:262: FutureWarning: Downcasting behavior in `replace` is deprecated and will be removed in a future version. To retain the old behavior, explicitly call `result.infer_objects(copy=False)`. To opt-in to the future behavior, set `pd.set_option('future.no_silent_downcasting', True)`\n",
      "  .replace(mapping)\n",
      "c:\\Users\\jsteensgaard\\OneDrive - KPMG\\Documents\\Synthetic_Data_Generation\\db\\db_operations_working.py:262: FutureWarning: Downcasting behavior in `replace` is deprecated and will be removed in a future version. To retain the old behavior, explicitly call `result.infer_objects(copy=False)`. To opt-in to the future behavior, set `pd.set_option('future.no_silent_downcasting', True)`\n",
      "  .replace(mapping)\n",
      "c:\\Users\\jsteensgaard\\OneDrive - KPMG\\Documents\\Synthetic_Data_Generation\\db\\db_operations_working.py:262: FutureWarning: Downcasting behavior in `replace` is deprecated and will be removed in a future version. To retain the old behavior, explicitly call `result.infer_objects(copy=False)`. To opt-in to the future behavior, set `pd.set_option('future.no_silent_downcasting', True)`\n",
      "  .replace(mapping)\n",
      "c:\\Users\\jsteensgaard\\OneDrive - KPMG\\Documents\\Synthetic_Data_Generation\\db\\db_operations_working.py:262: FutureWarning: Downcasting behavior in `replace` is deprecated and will be removed in a future version. To retain the old behavior, explicitly call `result.infer_objects(copy=False)`. To opt-in to the future behavior, set `pd.set_option('future.no_silent_downcasting', True)`\n",
      "  .replace(mapping)\n",
      "c:\\Users\\jsteensgaard\\OneDrive - KPMG\\Documents\\Synthetic_Data_Generation\\db\\db_operations_working.py:262: FutureWarning: Downcasting behavior in `replace` is deprecated and will be removed in a future version. To retain the old behavior, explicitly call `result.infer_objects(copy=False)`. To opt-in to the future behavior, set `pd.set_option('future.no_silent_downcasting', True)`\n",
      "  .replace(mapping)\n",
      "c:\\Users\\jsteensgaard\\OneDrive - KPMG\\Documents\\Synthetic_Data_Generation\\db\\db_operations_working.py:262: FutureWarning: Downcasting behavior in `replace` is deprecated and will be removed in a future version. To retain the old behavior, explicitly call `result.infer_objects(copy=False)`. To opt-in to the future behavior, set `pd.set_option('future.no_silent_downcasting', True)`\n",
      "  .replace(mapping)\n"
     ]
    },
    {
     "name": "stdout",
     "output_type": "stream",
     "text": [
      "Mapping complete for general ledger.\n",
      "Inserting payroll data...\n",
      "CREATE TABLE [dim_employee] ([role_name] nvarchar(255), [monthly_pay] decimal(18,2), [first_name] nvarchar(255), [last_name] nvarchar(255), [employee_id] int, [department_id] int, [id] int, [version_id] bigint);\n",
      "Max ID in dim_employee: 0\n",
      "INSERT INTO [dim_employee] ([role_name],[monthly_pay],[first_name],[last_name],[employee_id],[department_id],[id],[version_id]) VALUES (?,?,?,?,?,?,?,?)\n",
      "CREATE TABLE [fact_payroll] ([date] nvarchar(255), [employee_id] int, [line_id] int, [amount] decimal(18,2), [id] int, [version_id] bigint);\n",
      "Max ID in fact_payroll: 0\n",
      "INSERT INTO [fact_payroll] ([date],[employee_id],[line_id],[amount],[id],[version_id]) VALUES (?,?,?,?,?,?)\n"
     ]
    }
   ],
   "source": [
    "import sys\n",
    "from pathlib import Path\n",
    "import os\n",
    "# Add project root to sys.path\n",
    "sys.path.append(str(Path().resolve().parent))  # Adjust if needed\n",
    "\n",
    "import numpy as np\n",
    "import pandas as pd\n",
    "from datetime import datetime as dt\n",
    "from db.db_operations_working import execute_db_operations\n",
    "\n",
    "from generators.full_generators import (\n",
    "    create_company_data\n",
    ")\n",
    "\n",
    "company_name = \"LEGO\"\n",
    "count_products = 10\n",
    "count_employees = 10\n",
    "\n",
    "data = create_company_data(company_name, count_employee = count_employees, count_products = count_products, save_to_csv=True)\n",
    "\n",
    "version_tag = company_name.lower() + dt.now().strftime(\"%d%M%Y\")\n",
    "execute_db_operations(version_tag)"
   ]
  },
  {
   "cell_type": "code",
   "execution_count": null,
   "id": "261e1d05",
   "metadata": {},
   "outputs": [
    {
     "name": "stdout",
     "output_type": "stream",
     "text": [
      "powerdatademo.database.windows.net\n",
      "demo_db\n",
      "admindatademo\n",
      "NewTech2022\n",
      "Connection string: DRIVER={ODBC Driver 17 for SQL Server};SERVER=tcp:powerdatademo.database.windows.net,1433;DATABASE=demo_db;UID=admindatademo;PWD=NewTech2022;TrustServerCertificate=Yes;Encrypt=yes;\n",
      "INSERT INTO dbo.dim_version (version) VALUES ('lego07082025')\n",
      "inserting department.csv into database\n",
      "Max ID in dim_department: 380\n",
      "INSERT INTO [dim_department] ([department_id],[name],[proportionality],[num_employee],[id],[version_id]) VALUES (?,?,?,?,?,?)\n"
     ]
    },
    {
     "ename": "ProgrammingError",
     "evalue": "('42S22', \"[42S22] [Microsoft][ODBC Driver 17 for SQL Server][SQL Server]Invalid column name 'num_employee'. (207) (SQLExecDirectW); [42S22] [Microsoft][ODBC Driver 17 for SQL Server][SQL Server]Statement(s) could not be prepared. (8180)\")",
     "output_type": "error",
     "traceback": [
      "\u001b[31m---------------------------------------------------------------------------\u001b[39m",
      "\u001b[31mProgrammingError\u001b[39m                          Traceback (most recent call last)",
      "\u001b[36mCell\u001b[39m\u001b[36m \u001b[39m\u001b[32mIn[2]\u001b[39m\u001b[32m, line 2\u001b[39m\n\u001b[32m      1\u001b[39m version_tag = company_name.lower() + dt.now().strftime(\u001b[33m\"\u001b[39m\u001b[38;5;132;01m%d\u001b[39;00m\u001b[33m%\u001b[39m\u001b[33mM\u001b[39m\u001b[33m%\u001b[39m\u001b[33mY\u001b[39m\u001b[33m\"\u001b[39m)\n\u001b[32m----> \u001b[39m\u001b[32m2\u001b[39m \u001b[43mexecute_db_operations\u001b[49m\u001b[43m(\u001b[49m\u001b[43mversion_tag\u001b[49m\u001b[43m)\u001b[49m\n",
      "\u001b[36mFile \u001b[39m\u001b[32mc:\\Users\\jsteensgaard\\OneDrive - KPMG\\Documents\\Synthetic_Data_Generation\\db\\db_operations_working.py:297\u001b[39m, in \u001b[36mexecute_db_operations\u001b[39m\u001b[34m(version_tag)\u001b[39m\n\u001b[32m    294\u001b[39m     \u001b[38;5;28mprint\u001b[39m(\u001b[33mf\u001b[39m\u001b[33m\"\u001b[39m\u001b[33minserting \u001b[39m\u001b[38;5;132;01m{\u001b[39;00mfile_name\u001b[38;5;132;01m}\u001b[39;00m\u001b[33m into database\u001b[39m\u001b[33m\"\u001b[39m)\n\u001b[32m    295\u001b[39m     table_name = \u001b[33m\"\u001b[39m\u001b[33mdim_\u001b[39m\u001b[33m\"\u001b[39m + file_name.split(\u001b[33m\"\u001b[39m\u001b[33m.\u001b[39m\u001b[33m\"\u001b[39m)[\u001b[32m0\u001b[39m].replace(\u001b[33m\"\u001b[39m\u001b[33m \u001b[39m\u001b[33m\"\u001b[39m, \u001b[33m\"\u001b[39m\u001b[33m_\u001b[39m\u001b[33m\"\u001b[39m).lower()\n\u001b[32m--> \u001b[39m\u001b[32m297\u001b[39m     \u001b[43minsert_dataframe_from_csv\u001b[49m\u001b[43m(\u001b[49m\n\u001b[32m    298\u001b[39m \u001b[43m        \u001b[49m\u001b[43mcsv_path\u001b[49m\u001b[43m=\u001b[49m\u001b[33;43mf\u001b[39;49m\u001b[33;43m\"\u001b[39;49m\u001b[33;43mdata/outputdata/dimensions/\u001b[39;49m\u001b[38;5;132;43;01m{\u001b[39;49;00m\u001b[43mfile_name\u001b[49m\u001b[38;5;132;43;01m}\u001b[39;49;00m\u001b[33;43m\"\u001b[39;49m\u001b[43m,\u001b[49m\n\u001b[32m    299\u001b[39m \u001b[43m        \u001b[49m\u001b[43mtable_name\u001b[49m\u001b[43m=\u001b[49m\u001b[43mtable_name\u001b[49m\u001b[43m,\u001b[49m\n\u001b[32m    300\u001b[39m \u001b[43m        \u001b[49m\u001b[43mschemadict\u001b[49m\u001b[43m=\u001b[49m\u001b[43mschemadict\u001b[49m\u001b[43m,\u001b[49m\n\u001b[32m    301\u001b[39m \u001b[43m        \u001b[49m\u001b[43mconn\u001b[49m\u001b[43m=\u001b[49m\u001b[43mconn\u001b[49m\u001b[43m,\u001b[49m\n\u001b[32m    302\u001b[39m \u001b[43m        \u001b[49m\u001b[43mversion_tag\u001b[49m\u001b[43m=\u001b[49m\u001b[43mversion_tag\u001b[49m\u001b[43m,\u001b[49m\n\u001b[32m    303\u001b[39m \u001b[43m        \u001b[49m\u001b[43mfinal_dim_dict\u001b[49m\u001b[43m=\u001b[49m\u001b[43mfinal_dim_dict\u001b[49m\u001b[43m,\u001b[49m\n\u001b[32m    304\u001b[39m \u001b[43m    \u001b[49m\u001b[43m)\u001b[49m\n\u001b[32m    306\u001b[39m df_erp = pd.read_csv(\u001b[33m\"\u001b[39m\u001b[33mdata/outputdata/fact/general_ledger.csv\u001b[39m\u001b[33m\"\u001b[39m)\n\u001b[32m    307\u001b[39m df_erp_mapped = remap_dataframe_ids(df_erp, final_dim_dict)\n",
      "\u001b[36mFile \u001b[39m\u001b[32mc:\\Users\\jsteensgaard\\OneDrive - KPMG\\Documents\\Synthetic_Data_Generation\\db\\db_operations_working.py:245\u001b[39m, in \u001b[36minsert_dataframe_from_csv\u001b[39m\u001b[34m(csv_path, table_name, schemadict, conn, version_tag, final_dim_dict)\u001b[39m\n\u001b[32m    243\u001b[39m \u001b[38;5;28mprint\u001b[39m(\u001b[33mf\u001b[39m\u001b[33m\"\u001b[39m\u001b[33mMax ID in \u001b[39m\u001b[38;5;132;01m{\u001b[39;00mtable_name\u001b[38;5;132;01m}\u001b[39;00m\u001b[33m: \u001b[39m\u001b[38;5;132;01m{\u001b[39;00mmax_id\u001b[38;5;132;01m}\u001b[39;00m\u001b[33m\"\u001b[39m)\n\u001b[32m    244\u001b[39m df[\u001b[33m\"\u001b[39m\u001b[33mid\u001b[39m\u001b[33m\"\u001b[39m] = max_id + df.index + \u001b[32m1\u001b[39m\n\u001b[32m--> \u001b[39m\u001b[32m245\u001b[39m \u001b[43minsert_dataframe\u001b[49m\u001b[43m(\u001b[49m\u001b[43mdf\u001b[49m\u001b[43m,\u001b[49m\u001b[43m \u001b[49m\u001b[43mtable_name\u001b[49m\u001b[43m,\u001b[49m\u001b[43m \u001b[49m\u001b[43mconn\u001b[49m\u001b[43m=\u001b[49m\u001b[43mconn\u001b[49m\u001b[43m)\u001b[49m\n\u001b[32m    246\u001b[39m final_dim_dict[table_name] = df\n",
      "\u001b[36mFile \u001b[39m\u001b[32mc:\\Users\\jsteensgaard\\OneDrive - KPMG\\Documents\\Synthetic_Data_Generation\\db\\db_operations_working.py:171\u001b[39m, in \u001b[36minsert_dataframe\u001b[39m\u001b[34m(df, table_name, connection_string, conn)\u001b[39m\n\u001b[32m    169\u001b[39m sql = \u001b[33mf\u001b[39m\u001b[33m\"\u001b[39m\u001b[33mINSERT INTO [\u001b[39m\u001b[38;5;132;01m{\u001b[39;00mtable_name\u001b[38;5;132;01m}\u001b[39;00m\u001b[33m] (\u001b[39m\u001b[38;5;132;01m{\u001b[39;00m\u001b[33m'\u001b[39m\u001b[33m,\u001b[39m\u001b[33m'\u001b[39m.join([\u001b[33mf\u001b[39m\u001b[33m'\u001b[39m\u001b[33m[\u001b[39m\u001b[38;5;132;01m{\u001b[39;00mcol\u001b[38;5;132;01m}\u001b[39;00m\u001b[33m]\u001b[39m\u001b[33m'\u001b[39m\u001b[38;5;250m \u001b[39m\u001b[38;5;28;01mfor\u001b[39;00m\u001b[38;5;250m \u001b[39mcol\u001b[38;5;250m \u001b[39m\u001b[38;5;129;01min\u001b[39;00m\u001b[38;5;250m \u001b[39mdf.columns])\u001b[38;5;132;01m}\u001b[39;00m\u001b[33m) VALUES (\u001b[39m\u001b[38;5;132;01m{\u001b[39;00m\u001b[33m'\u001b[39m\u001b[33m,\u001b[39m\u001b[33m'\u001b[39m.join([\u001b[33m'\u001b[39m\u001b[33m?\u001b[39m\u001b[33m'\u001b[39m\u001b[38;5;250m \u001b[39m\u001b[38;5;28;01mfor\u001b[39;00m\u001b[38;5;250m \u001b[39m_\u001b[38;5;250m \u001b[39m\u001b[38;5;129;01min\u001b[39;00m\u001b[38;5;250m \u001b[39mdf.columns])\u001b[38;5;132;01m}\u001b[39;00m\u001b[33m)\u001b[39m\u001b[33m\"\u001b[39m\n\u001b[32m    170\u001b[39m \u001b[38;5;28mprint\u001b[39m(sql)\n\u001b[32m--> \u001b[39m\u001b[32m171\u001b[39m \u001b[43mcursor\u001b[49m\u001b[43m.\u001b[49m\u001b[43mexecutemany\u001b[49m\u001b[43m(\u001b[49m\u001b[43msql\u001b[49m\u001b[43m,\u001b[49m\u001b[43m \u001b[49m\u001b[43mrows\u001b[49m\u001b[43m)\u001b[49m\n\u001b[32m    173\u001b[39m \u001b[38;5;66;03m# Commit the changes\u001b[39;00m\n\u001b[32m    174\u001b[39m conn.commit()\n",
      "\u001b[31mProgrammingError\u001b[39m: ('42S22', \"[42S22] [Microsoft][ODBC Driver 17 for SQL Server][SQL Server]Invalid column name 'num_employee'. (207) (SQLExecDirectW); [42S22] [Microsoft][ODBC Driver 17 for SQL Server][SQL Server]Statement(s) could not be prepared. (8180)\")"
     ]
    }
   ],
   "source": [
    "version_tag = company_name.lower() + dt.now().strftime(\"%d%M%Y\")\n",
    "execute_db_operations(version_tag)"
   ]
  },
  {
   "cell_type": "code",
   "execution_count": null,
   "id": "52679356",
   "metadata": {},
   "outputs": [],
   "source": []
  },
  {
   "cell_type": "code",
   "execution_count": null,
   "id": "0815ee66",
   "metadata": {},
   "outputs": [],
   "source": []
  }
 ],
 "metadata": {
  "kernelspec": {
   "display_name": "Python (Testing LLM)",
   "language": "python",
   "name": "llm_testing_env"
  },
  "language_info": {
   "codemirror_mode": {
    "name": "ipython",
    "version": 3
   },
   "file_extension": ".py",
   "mimetype": "text/x-python",
   "name": "python",
   "nbconvert_exporter": "python",
   "pygments_lexer": "ipython3",
   "version": "3.13.5"
  }
 },
 "nbformat": 4,
 "nbformat_minor": 5
}
