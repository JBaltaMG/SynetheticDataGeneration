{
 "cells": [
  {
   "cell_type": "code",
   "execution_count": 1,
   "id": "f79d67ca",
   "metadata": {},
   "outputs": [],
   "source": [
    "import sys\n",
    "from pathlib import Path\n",
    "import os\n",
    "# Add project root to sys.path\n",
    "sys.path.append(str(Path().resolve().parent))  # Adjust if needed\n",
    "\n",
    "import numpy as np\n",
    "import pandas as pd\n",
    "from datetime import datetime as dt\n",
    "from db.db_operations_working import execute_db_operations\n",
    "\n",
    "from generators.full_generators import (\n",
    "    create_company_data\n",
    ")\n"
   ]
  },
  {
   "cell_type": "code",
   "execution_count": null,
   "id": "f1b53a9a",
   "metadata": {},
   "outputs": [
    {
     "name": "stdout",
     "output_type": "stream",
     "text": [
      "Generating data for company: Lego...\n",
      "✔ Roles and Names generated.\n",
      "✔ Procurement data generated.\n",
      "✔ Services data generated.\n",
      "✔ Products data generated.\n",
      "✔ Accounts, Customers, and Departments generated.\n",
      "✔ Payroll data generated.\n",
      "✔ All CSVs saved to: data/outputdata/\n",
      "✔ All mapping data generated.\n",
      "✔ All mapping CSVs saved to: data/outputdata/mapping\n",
      "✔ All erp-data generated.\n",
      "✔ All ERP CSVs saved to: data/outputdata/fact\n",
      "✔ All ERP data and mapping generated for company: Lego\n"
     ]
    }
   ],
   "source": [
    "company_name = \"Vestas\"\n",
    "count_products = 50\n",
    "count_employees = 50\n",
    "\n",
    "data = create_company_data(company_name, count_employee = count_employees, count_products = count_products, \n",
    "                           count_accounts = 30, count_departments = 10, count_customers = 10, save_to_csv=True)"
   ]
  },
  {
   "cell_type": "code",
   "execution_count": null,
   "id": "261e1d05",
   "metadata": {},
   "outputs": [
    {
     "name": "stdout",
     "output_type": "stream",
     "text": [
      "powerdatademo.database.windows.net\n",
      "demo_db\n",
      "admindatademo\n",
      "NewTech2022\n",
      "Connection string: DRIVER={ODBC Driver 17 for SQL Server};SERVER=tcp:powerdatademo.database.windows.net,1433;DATABASE=demo_db;UID=admindatademo;PWD=NewTech2022;TrustServerCertificate=Yes;Encrypt=yes;\n",
      "INSERT INTO dbo.dim_version (version) VALUES ('lego20250806112343')\n",
      "inserting department.csv into database\n",
      "Max ID in dim_department: 350\n",
      "INSERT INTO [dim_department] ([department_id],[name],[proportionality],[numemployees],[id],[version_id]) VALUES (?,?,?,?,?,?)\n",
      "inserting customer.csv into database\n",
      "CREATE TABLE [dim_customer] ([customer_id] int, [name] nvarchar(255), [customersegment] nvarchar(255), [proportionality] decimal(18,2), [id] int, [version_id] bigint);\n",
      "Max ID in dim_customer: 0\n",
      "INSERT INTO [dim_customer] ([customer_id],[name],[customersegment],[proportionality],[id],[version_id]) VALUES (?,?,?,?,?,?)\n",
      "inserting product.csv into database\n",
      "CREATE TABLE [dim_product] ([name] nvarchar(255), [proportionality] decimal(18,2), [id] int, [version_id] bigint);\n",
      "Max ID in dim_product: 0\n",
      "INSERT INTO [dim_product] ([name],[proportionality],[id],[version_id]) VALUES (?,?,?,?)\n",
      "inserting account.csv into database\n",
      "CREATE TABLE [dim_account] ([name] nvarchar(255), [accounttype] nvarchar(255), [account_id] int, [id] int, [version_id] bigint);\n",
      "Max ID in dim_account: 0\n",
      "INSERT INTO [dim_account] ([name],[accounttype],[account_id],[id],[version_id]) VALUES (?,?,?,?,?)\n",
      "inserting procurement.csv into database\n",
      "CREATE TABLE [dim_procurement] ([name] nvarchar(255), [proportionality] decimal(18,2), [id] int, [version_id] bigint);\n",
      "Max ID in dim_procurement: 0\n",
      "INSERT INTO [dim_procurement] ([name],[proportionality],[id],[version_id]) VALUES (?,?,?,?)\n",
      "inserting service.csv into database\n",
      "CREATE TABLE [dim_service] ([name] nvarchar(255), [proportionality] decimal(18,2), [id] int, [version_id] bigint);\n",
      "Max ID in dim_service: 0\n",
      "INSERT INTO [dim_service] ([name],[proportionality],[id],[version_id]) VALUES (?,?,?,?)\n",
      "inserting line.csv into database\n",
      "CREATE TABLE [dim_line] ([name] nvarchar(255), [line_id] int, [id] int, [version_id] bigint);\n",
      "Max ID in dim_line: 0\n",
      "INSERT INTO [dim_line] ([name],[line_id],[id],[version_id]) VALUES (?,?,?,?)\n"
     ]
    },
    {
     "name": "stderr",
     "output_type": "stream",
     "text": [
      "c:\\Users\\jsteensgaard\\OneDrive - KPMG\\Documents\\Synthetic_Data_Generation\\db\\db_operations_working.py:262: FutureWarning: Downcasting behavior in `replace` is deprecated and will be removed in a future version. To retain the old behavior, explicitly call `result.infer_objects(copy=False)`. To opt-in to the future behavior, set `pd.set_option('future.no_silent_downcasting', True)`\n",
      "  .replace(mapping)\n",
      "c:\\Users\\jsteensgaard\\OneDrive - KPMG\\Documents\\Synthetic_Data_Generation\\db\\db_operations_working.py:262: FutureWarning: Downcasting behavior in `replace` is deprecated and will be removed in a future version. To retain the old behavior, explicitly call `result.infer_objects(copy=False)`. To opt-in to the future behavior, set `pd.set_option('future.no_silent_downcasting', True)`\n",
      "  .replace(mapping)\n",
      "c:\\Users\\jsteensgaard\\OneDrive - KPMG\\Documents\\Synthetic_Data_Generation\\db\\db_operations_working.py:262: FutureWarning: Downcasting behavior in `replace` is deprecated and will be removed in a future version. To retain the old behavior, explicitly call `result.infer_objects(copy=False)`. To opt-in to the future behavior, set `pd.set_option('future.no_silent_downcasting', True)`\n",
      "  .replace(mapping)\n",
      "c:\\Users\\jsteensgaard\\OneDrive - KPMG\\Documents\\Synthetic_Data_Generation\\db\\db_operations_working.py:262: FutureWarning: Downcasting behavior in `replace` is deprecated and will be removed in a future version. To retain the old behavior, explicitly call `result.infer_objects(copy=False)`. To opt-in to the future behavior, set `pd.set_option('future.no_silent_downcasting', True)`\n",
      "  .replace(mapping)\n",
      "c:\\Users\\jsteensgaard\\OneDrive - KPMG\\Documents\\Synthetic_Data_Generation\\db\\db_operations_working.py:262: FutureWarning: Downcasting behavior in `replace` is deprecated and will be removed in a future version. To retain the old behavior, explicitly call `result.infer_objects(copy=False)`. To opt-in to the future behavior, set `pd.set_option('future.no_silent_downcasting', True)`\n",
      "  .replace(mapping)\n",
      "c:\\Users\\jsteensgaard\\OneDrive - KPMG\\Documents\\Synthetic_Data_Generation\\db\\db_operations_working.py:262: FutureWarning: Downcasting behavior in `replace` is deprecated and will be removed in a future version. To retain the old behavior, explicitly call `result.infer_objects(copy=False)`. To opt-in to the future behavior, set `pd.set_option('future.no_silent_downcasting', True)`\n",
      "  .replace(mapping)\n"
     ]
    },
    {
     "name": "stdout",
     "output_type": "stream",
     "text": [
      "Mapping complete for general ledger.\n",
      "Inserting payroll data...\n",
      "Max ID in dim_employee: 50\n",
      "INSERT INTO [dim_employee] ([role_name],[monthly_pay],[first_name],[last_name],[employee_id],[department_id],[id],[version_id]) VALUES (?,?,?,?,?,?,?,?)\n",
      "CREATE TABLE [fact_payroll] ([date] nvarchar(255), [employee_id] int, [line_id] int, [amount] decimal(18,2), [id] int, [version_id] bigint);\n",
      "Max ID in fact_payroll: 0\n",
      "INSERT INTO [fact_payroll] ([date],[employee_id],[line_id],[amount],[id],[version_id]) VALUES (?,?,?,?,?,?)\n",
      "CREATE TABLE [fact_general_ledger] ([document_number] int, [debit_credit] nvarchar(255), [date] nvarchar(255), [amount] decimal(18,2), [account_id] int, [product_id] int, [procurement_id] int, [service_id] int, [id] int, [version_id] bigint);\n",
      "Max ID in fact_general_ledger: 0\n",
      "INSERT INTO [fact_general_ledger] ([document_number],[debit_credit],[date],[amount],[account_id],[product_id],[procurement_id],[service_id],[id],[version_id]) VALUES (?,?,?,?,?,?,?,?,?,?)\n"
     ]
    }
   ],
   "source": [
    "version_tag = company_name.lower() + dt.now().strftime(\"%d%M%Y\")\n",
    "execute_db_operations(version_tag)"
   ]
  },
  {
   "cell_type": "code",
   "execution_count": null,
   "id": "52679356",
   "metadata": {},
   "outputs": [],
   "source": []
  },
  {
   "cell_type": "code",
   "execution_count": null,
   "id": "0815ee66",
   "metadata": {},
   "outputs": [],
   "source": []
  }
 ],
 "metadata": {
  "kernelspec": {
   "display_name": "Python (Testing LLM)",
   "language": "python",
   "name": "llm_testing_env"
  },
  "language_info": {
   "codemirror_mode": {
    "name": "ipython",
    "version": 3
   },
   "file_extension": ".py",
   "mimetype": "text/x-python",
   "name": "python",
   "nbconvert_exporter": "python",
   "pygments_lexer": "ipython3",
   "version": "3.13.5"
  }
 },
 "nbformat": 4,
 "nbformat_minor": 5
}
