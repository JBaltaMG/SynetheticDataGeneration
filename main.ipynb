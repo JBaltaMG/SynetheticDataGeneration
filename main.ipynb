{
 "cells": [
  {
   "cell_type": "code",
   "execution_count": 1,
   "id": "2147190a",
   "metadata": {},
   "outputs": [],
   "source": [
    "import sys\n",
    "from pathlib import Path\n",
    "import os\n",
    "# Add project root to sys.path\n",
    "sys.path.append(str(Path().resolve().parent))  # Adjust if needed\n",
    "\n",
    "import numpy as np\n",
    "import pandas as pd\n",
    "from datetime import datetime as dt\n",
    "from db.db_operations_optimized import execute_db_operations\n",
    "\n",
    "from generators.full_generators import (\n",
    "    create_company_data\n",
    ")\n",
    "\n",
    "company_name = \"Vestas\"\n"
   ]
  },
  {
   "cell_type": "code",
   "execution_count": 2,
   "id": "f79d67ca",
   "metadata": {},
   "outputs": [],
   "source": [
    "#data = create_company_data(company_name, save_to_csv=True)"
   ]
  },
  {
   "cell_type": "code",
   "execution_count": 3,
   "id": "b94b69ed",
   "metadata": {},
   "outputs": [
    {
     "name": "stdout",
     "output_type": "stream",
     "text": [
      "[INFO] Inserting 10 rows into dim_department using to_sql...\n",
      "[INFO] Inserting 30 rows into dim_customer using to_sql...\n",
      "[INFO] Inserting 100 rows into dim_product using to_sql...\n",
      "[INFO] Inserting 30 rows into dim_account using to_sql...\n",
      "[INFO] Inserting 50 rows into dim_procurement using to_sql...\n",
      "[INFO] Inserting 50 rows into dim_service using to_sql...\n",
      "[INFO] Inserting 14 rows into dim_line using to_sql...\n",
      "[INFO] Inserting 30 rows into dim_vendor using to_sql...\n"
     ]
    },
    {
     "name": "stderr",
     "output_type": "stream",
     "text": [
      "c:\\Users\\jsteensgaard\\OneDrive - KPMG\\Documents\\Synthetic_Data_Generation\\db\\db_operations_optimized.py:47: FutureWarning: Downcasting behavior in `replace` is deprecated and will be removed in a future version. To retain the old behavior, explicitly call `result.infer_objects(copy=False)`. To opt-in to the future behavior, set `pd.set_option('future.no_silent_downcasting', True)`\n",
      "  .replace(mapping)\n",
      "c:\\Users\\jsteensgaard\\OneDrive - KPMG\\Documents\\Synthetic_Data_Generation\\db\\db_operations_optimized.py:47: FutureWarning: Downcasting behavior in `replace` is deprecated and will be removed in a future version. To retain the old behavior, explicitly call `result.infer_objects(copy=False)`. To opt-in to the future behavior, set `pd.set_option('future.no_silent_downcasting', True)`\n",
      "  .replace(mapping)\n"
     ]
    },
    {
     "name": "stdout",
     "output_type": "stream",
     "text": [
      "[INFO] Inserting 100800 rows into fact_payroll using to_sql...\n"
     ]
    },
    {
     "name": "stderr",
     "output_type": "stream",
     "text": [
      "c:\\Users\\jsteensgaard\\OneDrive - KPMG\\Documents\\Synthetic_Data_Generation\\db\\db_operations_optimized.py:47: FutureWarning: Downcasting behavior in `replace` is deprecated and will be removed in a future version. To retain the old behavior, explicitly call `result.infer_objects(copy=False)`. To opt-in to the future behavior, set `pd.set_option('future.no_silent_downcasting', True)`\n",
      "  .replace(mapping)\n",
      "c:\\Users\\jsteensgaard\\OneDrive - KPMG\\Documents\\Synthetic_Data_Generation\\db\\db_operations_optimized.py:47: FutureWarning: Downcasting behavior in `replace` is deprecated and will be removed in a future version. To retain the old behavior, explicitly call `result.infer_objects(copy=False)`. To opt-in to the future behavior, set `pd.set_option('future.no_silent_downcasting', True)`\n",
      "  .replace(mapping)\n",
      "c:\\Users\\jsteensgaard\\OneDrive - KPMG\\Documents\\Synthetic_Data_Generation\\db\\db_operations_optimized.py:47: FutureWarning: Downcasting behavior in `replace` is deprecated and will be removed in a future version. To retain the old behavior, explicitly call `result.infer_objects(copy=False)`. To opt-in to the future behavior, set `pd.set_option('future.no_silent_downcasting', True)`\n",
      "  .replace(mapping)\n",
      "c:\\Users\\jsteensgaard\\OneDrive - KPMG\\Documents\\Synthetic_Data_Generation\\db\\db_operations_optimized.py:47: FutureWarning: Downcasting behavior in `replace` is deprecated and will be removed in a future version. To retain the old behavior, explicitly call `result.infer_objects(copy=False)`. To opt-in to the future behavior, set `pd.set_option('future.no_silent_downcasting', True)`\n",
      "  .replace(mapping)\n",
      "c:\\Users\\jsteensgaard\\OneDrive - KPMG\\Documents\\Synthetic_Data_Generation\\db\\db_operations_optimized.py:47: FutureWarning: Downcasting behavior in `replace` is deprecated and will be removed in a future version. To retain the old behavior, explicitly call `result.infer_objects(copy=False)`. To opt-in to the future behavior, set `pd.set_option('future.no_silent_downcasting', True)`\n",
      "  .replace(mapping)\n",
      "c:\\Users\\jsteensgaard\\OneDrive - KPMG\\Documents\\Synthetic_Data_Generation\\db\\db_operations_optimized.py:47: FutureWarning: Downcasting behavior in `replace` is deprecated and will be removed in a future version. To retain the old behavior, explicitly call `result.infer_objects(copy=False)`. To opt-in to the future behavior, set `pd.set_option('future.no_silent_downcasting', True)`\n",
      "  .replace(mapping)\n"
     ]
    },
    {
     "name": "stdout",
     "output_type": "stream",
     "text": [
      "[INFO] Inserting 6180 rows into fact_general_ledger using to_sql...\n"
     ]
    }
   ],
   "source": [
    "version_tag = company_name.lower() + dt.now().strftime(\"%h%m%d%M\")\n",
    "execute_db_operations(version_tag)"
   ]
  },
  {
   "cell_type": "code",
   "execution_count": 3,
   "id": "0a092a4b",
   "metadata": {},
   "outputs": [
    {
     "name": "stdout",
     "output_type": "stream",
     "text": [
      "Requirement already satisfied: sqlalchemy in c:\\users\\jsteensgaard\\appdata\\local\\programs\\python\\python313\\lib\\site-packages (2.0.41)\n",
      "Requirement already satisfied: greenlet>=1 in c:\\users\\jsteensgaard\\appdata\\local\\programs\\python\\python313\\lib\\site-packages (from sqlalchemy) (3.2.3)\n",
      "Requirement already satisfied: typing-extensions>=4.6.0 in c:\\users\\jsteensgaard\\appdata\\local\\programs\\python\\python313\\lib\\site-packages (from sqlalchemy) (4.14.1)\n",
      "Note: you may need to restart the kernel to use updated packages.\n"
     ]
    },
    {
     "name": "stderr",
     "output_type": "stream",
     "text": [
      "\n",
      "[notice] A new release of pip is available: 25.1.1 -> 25.2\n",
      "[notice] To update, run: python.exe -m pip install --upgrade pip\n"
     ]
    }
   ],
   "source": [
    "%pip install sqlalchemy"
   ]
  },
  {
   "cell_type": "code",
   "execution_count": null,
   "id": "dcc4c7f0",
   "metadata": {},
   "outputs": [],
   "source": []
  }
 ],
 "metadata": {
  "kernelspec": {
   "display_name": "Python (Testing LLM)",
   "language": "python",
   "name": "llm_testing_env"
  },
  "language_info": {
   "codemirror_mode": {
    "name": "ipython",
    "version": 3
   },
   "file_extension": ".py",
   "mimetype": "text/x-python",
   "name": "python",
   "nbconvert_exporter": "python",
   "pygments_lexer": "ipython3",
   "version": "3.13.5"
  }
 },
 "nbformat": 4,
 "nbformat_minor": 5
}
