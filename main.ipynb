{
 "cells": [
  {
   "cell_type": "code",
   "execution_count": 1,
   "id": "2147190a",
   "metadata": {},
   "outputs": [],
   "source": [
    "import sys\n",
    "from pathlib import Path\n",
    "sys.path.append(str(Path().resolve().parent))\n",
    "from datetime import datetime as dt\n",
    "from db.db_operations import execute_db_operations\n",
    "\n",
    "from generators.full_generators import (\n",
    "    create_company_data\n",
    ")\n",
    "\n",
    "company_name = \"Lego\""
   ]
  },
  {
   "cell_type": "code",
   "execution_count": 2,
   "id": "eff1d74c",
   "metadata": {},
   "outputs": [
    {
     "name": "stdout",
     "output_type": "stream",
     "text": [
      "Generating data for company: Lego...\n",
      "Using existing context report for Lego.\n",
      "Context data for Lego generated: {'company_name': 'Lego', 'count_employee': 550, 'count_department': 25, 'count_customer': 55, 'count_product': 180, 'count_procurement': 140, 'count_service': 140, 'count_account': 60, 'count_vendor': 75, 'estimated_product': 105000000, 'estimated_service': 40000000, 'estimated_overhead': 442000000, 'estimated_revenue': 649000000}\n",
      "Generating dimensions for company: Lego.\n",
      "This usually takes 2-5 mins.\n",
      "\n",
      "=== Attempt 1 ===\n",
      "✔ Roles and Names generated.\n",
      "✔ Procurement data generated.\n",
      "✔ Services data generated.\n",
      "✔ Products data generated.\n",
      "✔ Accounts data generated.\n",
      "✔ Customers data generated.\n",
      "✔ Departments data generated.\n",
      "✔ Vendors data generated.\n",
      "✔ Payroll data generated.\n",
      "✔ All table lengths validated.\n",
      "✔ All CSVs saved to: data/outputdata\n",
      "\n",
      " * Semantic mapping started * :\n",
      "Time estimate: 3-5 minutes\n",
      "✔ Procurement mapping done!\n",
      "✔ Service mapping done!\n",
      "✔ Product mapping done!\n",
      "✔ All mapping data generated.\n",
      "✔ All mapping CSVs saved to: data/outputdata/mapping\n",
      "✔ All erp-data generated.\n",
      "✔ All ERP CSVs saved to: data/outputdata/fact\n",
      "✔ All ERP data and mapping generated for company: Lego\n"
     ]
    }
   ],
   "source": [
    "data = create_company_data(company_name=company_name, save_to_csv=True)"
   ]
  },
  {
   "cell_type": "code",
   "execution_count": 3,
   "id": "b94b69ed",
   "metadata": {},
   "outputs": [
    {
     "name": "stdout",
     "output_type": "stream",
     "text": [
      "[INFO] Inserting 25 rows into dim_department using to_sql...\n",
      "[INFO] Inserting 55 rows into dim_customer using to_sql...\n",
      "[INFO] Inserting 180 rows into dim_product using to_sql...\n",
      "[INFO] Inserting 60 rows into dim_account using to_sql...\n",
      "[INFO] Inserting 140 rows into dim_procurement using to_sql...\n",
      "[INFO] Inserting 140 rows into dim_service using to_sql...\n",
      "[INFO] Inserting 14 rows into dim_payline using to_sql...\n",
      "[INFO] Inserting 75 rows into dim_vendor using to_sql...\n"
     ]
    },
    {
     "name": "stderr",
     "output_type": "stream",
     "text": [
      "c:\\Users\\jsteensgaard\\OneDrive - KPMG\\Documents\\Synthetic_Data_Generation\\db\\db_operations.py:61: FutureWarning: Downcasting behavior in `replace` is deprecated and will be removed in a future version. To retain the old behavior, explicitly call `result.infer_objects(copy=False)`. To opt-in to the future behavior, set `pd.set_option('future.no_silent_downcasting', True)`\n",
      "  .replace(mapping)\n"
     ]
    },
    {
     "name": "stdout",
     "output_type": "stream",
     "text": [
      "[INFO] Inserting 550 rows into dim_employee using to_sql...\n",
      "[INFO] Inserting 554400 rows into fact_payroll using to_sql...\n"
     ]
    },
    {
     "name": "stderr",
     "output_type": "stream",
     "text": [
      "c:\\Users\\jsteensgaard\\OneDrive - KPMG\\Documents\\Synthetic_Data_Generation\\db\\db_operations.py:61: FutureWarning: Downcasting behavior in `replace` is deprecated and will be removed in a future version. To retain the old behavior, explicitly call `result.infer_objects(copy=False)`. To opt-in to the future behavior, set `pd.set_option('future.no_silent_downcasting', True)`\n",
      "  .replace(mapping)\n",
      "c:\\Users\\jsteensgaard\\OneDrive - KPMG\\Documents\\Synthetic_Data_Generation\\db\\db_operations.py:61: FutureWarning: Downcasting behavior in `replace` is deprecated and will be removed in a future version. To retain the old behavior, explicitly call `result.infer_objects(copy=False)`. To opt-in to the future behavior, set `pd.set_option('future.no_silent_downcasting', True)`\n",
      "  .replace(mapping)\n",
      "c:\\Users\\jsteensgaard\\OneDrive - KPMG\\Documents\\Synthetic_Data_Generation\\db\\db_operations.py:61: FutureWarning: Downcasting behavior in `replace` is deprecated and will be removed in a future version. To retain the old behavior, explicitly call `result.infer_objects(copy=False)`. To opt-in to the future behavior, set `pd.set_option('future.no_silent_downcasting', True)`\n",
      "  .replace(mapping)\n",
      "c:\\Users\\jsteensgaard\\OneDrive - KPMG\\Documents\\Synthetic_Data_Generation\\db\\db_operations.py:61: FutureWarning: Downcasting behavior in `replace` is deprecated and will be removed in a future version. To retain the old behavior, explicitly call `result.infer_objects(copy=False)`. To opt-in to the future behavior, set `pd.set_option('future.no_silent_downcasting', True)`\n",
      "  .replace(mapping)\n",
      "c:\\Users\\jsteensgaard\\OneDrive - KPMG\\Documents\\Synthetic_Data_Generation\\db\\db_operations.py:61: FutureWarning: Downcasting behavior in `replace` is deprecated and will be removed in a future version. To retain the old behavior, explicitly call `result.infer_objects(copy=False)`. To opt-in to the future behavior, set `pd.set_option('future.no_silent_downcasting', True)`\n",
      "  .replace(mapping)\n",
      "c:\\Users\\jsteensgaard\\OneDrive - KPMG\\Documents\\Synthetic_Data_Generation\\db\\db_operations.py:61: FutureWarning: Downcasting behavior in `replace` is deprecated and will be removed in a future version. To retain the old behavior, explicitly call `result.infer_objects(copy=False)`. To opt-in to the future behavior, set `pd.set_option('future.no_silent_downcasting', True)`\n",
      "  .replace(mapping)\n"
     ]
    },
    {
     "name": "stdout",
     "output_type": "stream",
     "text": [
      "[INFO] Inserting 49920 rows into fact_general_ledger using to_sql...\n"
     ]
    },
    {
     "name": "stderr",
     "output_type": "stream",
     "text": [
      "c:\\Users\\jsteensgaard\\OneDrive - KPMG\\Documents\\Synthetic_Data_Generation\\db\\db_operations.py:61: FutureWarning: Downcasting behavior in `replace` is deprecated and will be removed in a future version. To retain the old behavior, explicitly call `result.infer_objects(copy=False)`. To opt-in to the future behavior, set `pd.set_option('future.no_silent_downcasting', True)`\n",
      "  .replace(mapping)\n",
      "c:\\Users\\jsteensgaard\\OneDrive - KPMG\\Documents\\Synthetic_Data_Generation\\db\\db_operations.py:61: FutureWarning: Downcasting behavior in `replace` is deprecated and will be removed in a future version. To retain the old behavior, explicitly call `result.infer_objects(copy=False)`. To opt-in to the future behavior, set `pd.set_option('future.no_silent_downcasting', True)`\n",
      "  .replace(mapping)\n",
      "c:\\Users\\jsteensgaard\\OneDrive - KPMG\\Documents\\Synthetic_Data_Generation\\db\\db_operations.py:61: FutureWarning: Downcasting behavior in `replace` is deprecated and will be removed in a future version. To retain the old behavior, explicitly call `result.infer_objects(copy=False)`. To opt-in to the future behavior, set `pd.set_option('future.no_silent_downcasting', True)`\n",
      "  .replace(mapping)\n",
      "c:\\Users\\jsteensgaard\\OneDrive - KPMG\\Documents\\Synthetic_Data_Generation\\db\\db_operations.py:61: FutureWarning: Downcasting behavior in `replace` is deprecated and will be removed in a future version. To retain the old behavior, explicitly call `result.infer_objects(copy=False)`. To opt-in to the future behavior, set `pd.set_option('future.no_silent_downcasting', True)`\n",
      "  .replace(mapping)\n",
      "c:\\Users\\jsteensgaard\\OneDrive - KPMG\\Documents\\Synthetic_Data_Generation\\db\\db_operations.py:61: FutureWarning: Downcasting behavior in `replace` is deprecated and will be removed in a future version. To retain the old behavior, explicitly call `result.infer_objects(copy=False)`. To opt-in to the future behavior, set `pd.set_option('future.no_silent_downcasting', True)`\n",
      "  .replace(mapping)\n",
      "c:\\Users\\jsteensgaard\\OneDrive - KPMG\\Documents\\Synthetic_Data_Generation\\db\\db_operations.py:61: FutureWarning: Downcasting behavior in `replace` is deprecated and will be removed in a future version. To retain the old behavior, explicitly call `result.infer_objects(copy=False)`. To opt-in to the future behavior, set `pd.set_option('future.no_silent_downcasting', True)`\n",
      "  .replace(mapping)\n"
     ]
    },
    {
     "name": "stdout",
     "output_type": "stream",
     "text": [
      "[INFO] Inserting 33355 rows into fact_budget using to_sql...\n"
     ]
    }
   ],
   "source": [
    "now = dt.now()\n",
    "version_tag = (\n",
    "    company_name.lower()\n",
    "    + \"_date_\" + now.strftime(\"%m%d\")\n",
    "    + \"_time_\" + now.strftime(\"%H%M%S\")\n",
    ")\n",
    "execute_db_operations(version_tag)"
   ]
  },
  {
   "cell_type": "code",
   "execution_count": null,
   "id": "cbf12a55",
   "metadata": {},
   "outputs": [],
   "source": []
  }
 ],
 "metadata": {
  "kernelspec": {
   "display_name": "DemoDataVenv",
   "language": "python",
   "name": "python3"
  },
  "language_info": {
   "codemirror_mode": {
    "name": "ipython",
    "version": 3
   },
   "file_extension": ".py",
   "mimetype": "text/x-python",
   "name": "python",
   "nbconvert_exporter": "python",
   "pygments_lexer": "ipython3",
   "version": "3.13.5"
  }
 },
 "nbformat": 4,
 "nbformat_minor": 5
}
