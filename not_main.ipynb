{
 "cells": [
  {
   "cell_type": "code",
   "execution_count": 1,
   "id": "c12cb9ed",
   "metadata": {},
   "outputs": [],
   "source": [
    "import sys\n",
    "from pathlib import Path\n",
    "import os\n",
    "# Add project root to sys.path\n",
    "sys.path.append(str(Path().resolve().parent))  # Adjust if needed\n",
    "\n",
    "import numpy as np\n",
    "import pandas as pd"
   ]
  },
  {
   "cell_type": "code",
   "execution_count": 2,
   "id": "36185941",
   "metadata": {},
   "outputs": [],
   "source": [
    "from generators.full_generators import (\n",
    "    create_company_data\n",
    ")"
   ]
  },
  {
   "cell_type": "code",
   "execution_count": 3,
   "id": "d4a01270",
   "metadata": {},
   "outputs": [],
   "source": [
    "company_name = \"Vestas\"\n",
    "count_products = 50\n",
    "count_employees = 50"
   ]
  },
  {
   "cell_type": "code",
   "execution_count": null,
   "id": "97a06aeb",
   "metadata": {},
   "outputs": [
    {
     "name": "stdout",
     "output_type": "stream",
     "text": [
      "Generating data for company: Vestas...\n"
     ]
    }
   ],
   "source": [
    "data = create_company_data(company_name, count_employee = 50, count_products = 50, count_accounts = 30, count_departments = 10, count_customers = 10, save_to_csv=True)"
   ]
  },
  {
   "cell_type": "code",
   "execution_count": null,
   "id": "89656b72",
   "metadata": {},
   "outputs": [],
   "source": [
    "# Loading time.  "
   ]
  }
 ],
 "metadata": {
  "kernelspec": {
   "display_name": "DemoDataVenv",
   "language": "python",
   "name": "python3"
  },
  "language_info": {
   "codemirror_mode": {
    "name": "ipython",
    "version": 3
   },
   "file_extension": ".py",
   "mimetype": "text/x-python",
   "name": "python",
   "nbconvert_exporter": "python",
   "pygments_lexer": "ipython3",
   "version": "3.13.5"
  }
 },
 "nbformat": 4,
 "nbformat_minor": 5
}
